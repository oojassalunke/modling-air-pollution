{
 "cells": [
  {
   "cell_type": "code",
   "execution_count": 1,
   "metadata": {},
   "outputs": [],
   "source": [
    "import numpy as np, random, operator, pandas as pd, matplotlib.pyplot as plt, sys\n",
    "import haversine as hs\n",
    "from csv import reader, writer\n",
    "import os"
   ]
  },
  {
   "cell_type": "code",
   "execution_count": 2,
   "metadata": {},
   "outputs": [],
   "source": [
    "num_agents = 4\n",
    "\n",
    "if os.path.exists('multi_agent.csv') and num_agents > 1:\n",
    "    os.remove('multi_agent.csv')\n",
    "\n",
    "if os.path.exists('single_agent.csv') and num_agents == 1:\n",
    "    os.remove('single_agent.csv')"
   ]
  },
  {
   "cell_type": "markdown",
   "metadata": {},
   "source": [
    "## Create necessary classes and functions"
   ]
  },
  {
   "cell_type": "markdown",
   "metadata": {},
   "source": [
    "Create class to handle \"cities\""
   ]
  },
  {
   "cell_type": "code",
   "execution_count": 3,
   "metadata": {},
   "outputs": [],
   "source": [
    "def route_dist(routes):\n",
    "    distance = 0\n",
    "    for i in range(0, len(routes) - 1):\n",
    "        distance += hs.haversine(routes[i].get_coords(), routes[i+1].get_coords(), unit=hs.Unit.METERS)\n",
    "    return distance"
   ]
  },
  {
   "cell_type": "code",
   "execution_count": 4,
   "metadata": {},
   "outputs": [],
   "source": [
    "class Hotspot:\n",
    "    def __init__(self, x, y):\n",
    "        self.x = x\n",
    "        self.y = y\n",
    "    \n",
    "    def distance(self, hotspot):\n",
    "        xDis = abs(self.x - hotspot.x)\n",
    "        yDis = abs(self.y - hotspot.y)\n",
    "        distance = np.sqrt((xDis ** 2) + (yDis ** 2))\n",
    "        return distance\n",
    "    \n",
    "    def distance_haversine(self, hotspot):\n",
    "        return hs.haversine((self.x, self.y), (hotspot.x, hotspot.y), unit=hs.Unit.METERS)\n",
    "    \n",
    "    def get_coords(self):\n",
    "        return (self.x, self.y)\n",
    "    \n",
    "    def __repr__(self):\n",
    "        return \"(\" + str(self.x) + \",\" + str(self.y) + \")\""
   ]
  },
  {
   "cell_type": "markdown",
   "metadata": {},
   "source": [
    "Create a fitness function"
   ]
  },
  {
   "cell_type": "code",
   "execution_count": 5,
   "metadata": {},
   "outputs": [],
   "source": [
    "class Fitness:\n",
    "    def __init__(self, routes):\n",
    "        self.routes = routes\n",
    "        self.distance = 0.0\n",
    "        self.fitness= 0.0\n",
    "        self.max_dist = 0.0\n",
    "    \n",
    "    def routeDistance(self):\n",
    "        if self.distance ==0.0:\n",
    "            pathDistance = 0.0\n",
    "            for i in range(0, len(self.routes)):\n",
    "                for j in range(0, len(self.routes[i])):\n",
    "                    fromHotspot = self.routes[i][j]\n",
    "                    toHotspot = None\n",
    "                    if j + 1 < len(self.routes[i]):\n",
    "                        toHotspot = self.routes[i][j + 1]\n",
    "                    else:\n",
    "                        toHotspot = self.routes[i][0]\n",
    "                    pathDistance += fromHotspot.distance_haversine(toHotspot)\n",
    "            self.distance = pathDistance\n",
    "        return self.distance\n",
    "    \n",
    "    def max_agent_route_dist(self):\n",
    "\n",
    "        if self.max_dist == 0.0:\n",
    "            for agent in self.routes:\n",
    "                dist = route_dist(agent)\n",
    "                if dist > self.max_dist:\n",
    "                    self.max_dist = dist\n",
    "        return self.max_dist\n",
    "    \n",
    "    def routeFitness(self):\n",
    "        if self.fitness == 0:\n",
    "            penalty = 0\n",
    "            for agent in range(0, len(self.routes)):\n",
    "                if len(self.routes[agent]) <= 1 :\n",
    "                    penalty = float('inf')\n",
    "                    continue\n",
    "\n",
    "                if route_dist(self.routes[agent]) > 925:\n",
    "                    penalty += 1000\n",
    "                    continue\n",
    "\n",
    "\n",
    "            self.fitness = 1 / (float(self.routeDistance()) + penalty + self.max_agent_route_dist()*10)\n",
    "        return self.fitness"
   ]
  },
  {
   "cell_type": "markdown",
   "metadata": {},
   "source": [
    "Create a drone class "
   ]
  },
  {
   "cell_type": "code",
   "execution_count": 6,
   "metadata": {},
   "outputs": [],
   "source": [
    "class Drone:\n",
    "    def __init__(self, name, flight_time, charge_time, cost, velocity, Altitude):\n",
    "        self.name = name\n",
    "        self.flight_time = flight_time\n",
    "        self.charge_time = charge_time\n",
    "        self.cost = cost\n",
    "        self.velocity = velocity\n",
    "        self.Altitude = Altitude\n",
    "        self.range = 0\n",
    "\n",
    "    def set_range(self, range):\n",
    "        self.range = range\n",
    "\n",
    "    def validate(self, dist):\n",
    "        if dist > self.range:\n",
    "            return False\n",
    "        else:\n",
    "            print (\"Remaining Flight Time for \" + self.name+\" : \", ((self.range - dist)/self.velocity)/60)\n",
    "        return True"
   ]
  },
  {
   "cell_type": "code",
   "execution_count": 7,
   "metadata": {},
   "outputs": [],
   "source": [
    "def save_data(coord1, coord2, drone_num, time, file_name, cummalative_dist):\n",
    "\n",
    "    data = [coord1.y, coord1.x, drone_num, coord2.y, coord2.x, time, cummalative_dist]\n",
    "    with open(file_name, 'a') as file:\n",
    "        writer_o = writer(file)\n",
    "        writer_o.writerow(data)"
   ]
  },
  {
   "cell_type": "code",
   "execution_count": 8,
   "metadata": {},
   "outputs": [],
   "source": [
    "def find_duplicates(list):\n",
    "    dupes = []\n",
    "    flat = [ item for sublist in list for item in sublist]\n",
    "    for x in flat:\n",
    "        if flat.count(x) > 1 and x not in dupes:\n",
    "            dupes.append(x)\n",
    "\n",
    "    if dupes:\n",
    "        return True\n",
    "    else:\n",
    "        return False"
   ]
  },
  {
   "cell_type": "markdown",
   "metadata": {},
   "source": [
    "## Create our initial population"
   ]
  },
  {
   "cell_type": "markdown",
   "metadata": {},
   "source": [
    "Route generator"
   ]
  },
  {
   "cell_type": "code",
   "execution_count": 9,
   "metadata": {},
   "outputs": [],
   "source": [
    "def createRoute(hotspotList, agents):\n",
    "    totalRoute = random.sample(hotspotList, len(hotspotList))\n",
    "    routes = []\n",
    "    j = 0\n",
    "    for i in range(0, agents - 1):\n",
    "        j2 = random.randint(j + 1, len(totalRoute)- agents + i)\n",
    "        routes.append(totalRoute[j: j2])\n",
    "        j = j2\n",
    "    routes.append(totalRoute[j: ])\n",
    "    return routes"
   ]
  },
  {
   "cell_type": "markdown",
   "metadata": {},
   "source": [
    "Create first \"population\" (list of routes)"
   ]
  },
  {
   "cell_type": "code",
   "execution_count": 10,
   "metadata": {},
   "outputs": [],
   "source": [
    "def initialPopulation(popSize, hotspotList, agents):\n",
    "    population = []\n",
    "    for i in range(0, popSize):\n",
    "        population.append(createRoute(hotspotList, agents))\n",
    "    return population"
   ]
  },
  {
   "cell_type": "code",
   "execution_count": 11,
   "metadata": {},
   "outputs": [],
   "source": [
    "def get_min_dist(population):\n",
    "    min_dist = float('inf')\n",
    "    \n",
    "    for routes in population:\n",
    "        fitness = Fitness(routes)\n",
    "        dist = fitness.routeDistance()\n",
    "        if dist < min_dist:\n",
    "            min_dist = dist\n",
    "    \n",
    "    return min_dist\n",
    "\n",
    "def get_max_agent_dist(population):\n",
    "    \n",
    "    max_dists = []\n",
    "    max_idxs = []\n",
    "\n",
    "    for routes in population:\n",
    "        max_dist = 0\n",
    "        for agent in routes:\n",
    "            dist = route_dist(agent)\n",
    "            if dist > max_dist:\n",
    "                max_dist = dist\n",
    "                max_idxs.append(population.index(routes))\n",
    "        max_dists.append(max_dist)\n",
    "        min_dist = min(max_dists)\n",
    "        min_idx = max_idxs[max_dists.index(min_dist)]\n",
    "    return min_dist, min_idx\n"
   ]
  },
  {
   "cell_type": "markdown",
   "metadata": {},
   "source": [
    "## Create the genetic algorithm"
   ]
  },
  {
   "cell_type": "markdown",
   "metadata": {},
   "source": [
    "Rank individuals"
   ]
  },
  {
   "cell_type": "code",
   "execution_count": 12,
   "metadata": {},
   "outputs": [],
   "source": [
    "def rankRoutes(population):\n",
    "    fitnessResults = {}\n",
    "    for i in range(0,len(population)):\n",
    "        fitnessResults[i] = Fitness(population[i]).routeFitness()\n",
    "    return sorted(fitnessResults.items(), key = operator.itemgetter(1), reverse = True)"
   ]
  },
  {
   "cell_type": "markdown",
   "metadata": {},
   "source": [
    "Create a selection function that will be used to make the list of parent routes"
   ]
  },
  {
   "cell_type": "code",
   "execution_count": 13,
   "metadata": {},
   "outputs": [],
   "source": [
    "def selection(popRanked, eliteSize):\n",
    "    selectionResults = []\n",
    "    df = pd.DataFrame(np.array(popRanked), columns=[\"Index\",\"Fitness\"])\n",
    "    df['cum_sum'] = df.Fitness.cumsum()\n",
    "    df['cum_perc'] = 100*df.cum_sum/df.Fitness.sum()\n",
    "    \n",
    "    for i in range(0, eliteSize):\n",
    "        selectionResults.append(popRanked[i][0])\n",
    "    for i in range(0, len(popRanked) - eliteSize):\n",
    "        pick = 100*random.random()\n",
    "        for i in range(0, len(popRanked)):\n",
    "            if pick <= df.iat[i,3]:\n",
    "                selectionResults.append(popRanked[i][0])\n",
    "                break\n",
    "    return selectionResults"
   ]
  },
  {
   "cell_type": "markdown",
   "metadata": {},
   "source": [
    "Create mating pool"
   ]
  },
  {
   "cell_type": "code",
   "execution_count": 14,
   "metadata": {},
   "outputs": [],
   "source": [
    "def matingPool(population, selectionResults):\n",
    "    matingpool = []\n",
    "    for i in range(0, len(selectionResults)):\n",
    "        index = selectionResults[i]\n",
    "        matingpool.append(population[index])\n",
    "    return matingpool"
   ]
  },
  {
   "cell_type": "markdown",
   "metadata": {},
   "source": [
    "Create a crossover function for two parents to create one child"
   ]
  },
  {
   "cell_type": "code",
   "execution_count": 15,
   "metadata": {},
   "outputs": [],
   "source": [
    "# Old breed function\n",
    "def breed(parent1, parent2):\n",
    "    child = []\n",
    "    childP1 = []\n",
    "    childP2 = []\n",
    "    \n",
    "    totalChild = []\n",
    "    \n",
    "    routeLengthsParent1 = [0]\n",
    "    routeLengthsParent2 = [0]\n",
    "    routeLengthsParent = []\n",
    "    \n",
    "    totalParent1 = []\n",
    "    totalParent2 = []\n",
    "    \n",
    "    for i in range(0, len(parent1)):\n",
    "        routeLengthsParent1.append(len(parent1[i]) + routeLengthsParent1[i])\n",
    "        routeLengthsParent2.append(len(parent2[i]) + routeLengthsParent2[i])\n",
    "        totalParent1 = totalParent1 + parent1[i]\n",
    "        totalParent2 = totalParent2 + parent2[i]\n",
    "    geneA = int(random.random() * len(totalParent1))\n",
    "    geneB = int(random.random() * len(totalParent1))\n",
    "    \n",
    "    startGene = min(geneA, geneB)\n",
    "    endGene = max(geneA, geneB)\n",
    "\n",
    "    for i in range(startGene, endGene):\n",
    "        childP1.append(totalParent1[i])\n",
    "        \n",
    "    childP2 = [item for item in totalParent2 if item not in childP1]\n",
    "\n",
    "    totalChild = childP1 + childP2\n",
    "    for i in range(0, len(parent1)):\n",
    "        routeLengthsParent.append((routeLengthsParent1[i] + routeLengthsParent2[i]) // 2)\n",
    "    \n",
    "    routeLengthsParent.append(len(totalChild))\n",
    "    \n",
    "    for i in range(0, len(parent1)):\n",
    "        child.append(totalChild[routeLengthsParent[i]: routeLengthsParent[i + 1]])\n",
    "\n",
    "    return child\n"
   ]
  },
  {
   "cell_type": "markdown",
   "metadata": {},
   "source": [
    "Create function to run crossover over full mating pool"
   ]
  },
  {
   "cell_type": "code",
   "execution_count": 16,
   "metadata": {},
   "outputs": [],
   "source": [
    "def breedPopulation(matingpool, eliteSize):\n",
    "    children = []\n",
    "    length = len(matingpool) - eliteSize\n",
    "    pool = random.sample(matingpool, len(matingpool))\n",
    "\n",
    "    for i in range(0,eliteSize):\n",
    "        children.append(matingpool[i])\n",
    "    \n",
    "    for i in range(0, length):\n",
    "        child = breed(pool[i], pool[len(matingpool)-i-1])\n",
    "        children.append(child)\n",
    "    return children"
   ]
  },
  {
   "cell_type": "markdown",
   "metadata": {},
   "source": [
    "Create function to mutate a single route"
   ]
  },
  {
   "cell_type": "code",
   "execution_count": 17,
   "metadata": {},
   "outputs": [],
   "source": [
    "# Old mutate function\n",
    "def mutate(individual, mutationRate):\n",
    "    totalIndividual = []\n",
    "    routeLengths = [0]\n",
    "    for i in range(0, len(individual)):\n",
    "        totalIndividual = totalIndividual + individual[i]\n",
    "        routeLengths.append(routeLengths[i] + len(individual[i]))\n",
    "        \n",
    "    for swapped in range(len(totalIndividual)):\n",
    "        if(random.random() < mutationRate):\n",
    "            swapWith = int(random.random() * len(totalIndividual))\n",
    "            \n",
    "            hotspot1 = totalIndividual[swapped]\n",
    "            hotspot2 = totalIndividual[swapWith]\n",
    "            \n",
    "            totalIndividual[swapped] = hotspot2\n",
    "            totalIndividual[swapWith] = hotspot1\n",
    "    newIndividual = []\n",
    "    for i in range(0, len(individual)):\n",
    "        newIndividual.append(totalIndividual[routeLengths[i]: routeLengths[i + 1]])\n",
    "\n",
    "    \n",
    "        \n",
    "    return newIndividual"
   ]
  },
  {
   "cell_type": "markdown",
   "metadata": {},
   "source": [
    "Create function to run mutation over entire population"
   ]
  },
  {
   "cell_type": "code",
   "execution_count": 18,
   "metadata": {},
   "outputs": [],
   "source": [
    "def mutatePopulation(population, mutationRate):\n",
    "    mutatedPop = []\n",
    "    \n",
    "    for ind in range(0, len(population)):\n",
    "        mutatedInd = mutate(population[ind], mutationRate)\n",
    "        mutatedPop.append(mutatedInd)\n",
    "    return mutatedPop"
   ]
  },
  {
   "cell_type": "markdown",
   "metadata": {},
   "source": [
    "Put all steps together to create the next generation"
   ]
  },
  {
   "cell_type": "code",
   "execution_count": 19,
   "metadata": {},
   "outputs": [],
   "source": [
    "def nextGeneration(currentGen, eliteSize, mutationRate):\n",
    "    popRanked = rankRoutes(currentGen)\n",
    "    selectionResults = selection(popRanked, eliteSize)\n",
    "    matingpool = matingPool(currentGen, selectionResults)\n",
    "    children = breedPopulation(matingpool, eliteSize)\n",
    "    nextGeneration = mutatePopulation(children, mutationRate)\n",
    "    return nextGeneration"
   ]
  },
  {
   "cell_type": "markdown",
   "metadata": {},
   "source": [
    "Final step: create the genetic algorithm"
   ]
  },
  {
   "cell_type": "code",
   "execution_count": 20,
   "metadata": {},
   "outputs": [],
   "source": [
    "def geneticAlgorithm(population, popSize, eliteSize, mutationRate, generations, agents):\n",
    "    pop = initialPopulation(popSize, population, agents)\n",
    "    #print(\"Initial distance: \" + str(1 / rankRoutes(pop)[0][1]))\n",
    "    print(\"Initial distance: \" + str(get_min_dist(pop)))\n",
    "    for i in range(0, generations):\n",
    "        # print(i)\n",
    "        pop = nextGeneration(pop, eliteSize, mutationRate)\n",
    "    \n",
    "    # print(\"Final distance: \" + str(1 / rankRoutes(pop)[0][1]))\n",
    "    print(\"Final distance: \" + str(get_min_dist(pop)))\n",
    "    bestRouteIndex = rankRoutes(pop)[0][0]\n",
    "    bestRoute = pop[bestRouteIndex]\n",
    "    return bestRoute"
   ]
  },
  {
   "cell_type": "code",
   "execution_count": 21,
   "metadata": {},
   "outputs": [],
   "source": [
    "# given a list of cordinates, return the distance from the first to the last\n",
    "def totalDistance(hotspotList):\n",
    "    for i in range(0, len(hotspotList) - 1):\n",
    "        distance += hs.haversine(hotspotList[i], hotspotList[i + 1], unit=hs.Unit.METERS)\n",
    "    \n",
    "    return distance\n"
   ]
  },
  {
   "cell_type": "markdown",
   "metadata": {},
   "source": [
    "## Running the genetic algorithm"
   ]
  },
  {
   "cell_type": "markdown",
   "metadata": {},
   "source": [
    "Create list of cities"
   ]
  },
  {
   "cell_type": "code",
   "execution_count": 22,
   "metadata": {},
   "outputs": [],
   "source": [
    "hotspotList = []\n",
    "coords = [\n",
    "    [33.7747760996229, -84.397389045613],                   #Tech Green\n",
    "    [33.772779872748515, -84.39651065684585],               #Transit Hub\n",
    "    [33.77357055668125, -84.398009214924],                  #Student Center    \n",
    "    [33.77688902399273, -84.40366325910463],                #Roe Stamps Field\n",
    "    [33.77845950552504, -84.40326275302543],                #Burger Bowl Field\n",
    "    [33.776877666423005, -84.38880262066144],               #Tech Square\n",
    "    [33.769571690695614, -84.39096887259626],               #North Avenue Apartments\n",
    "    [33.779599557496205, -84.40469972898788],               #West Village \n",
    "    [33.77935960869498, -84.40099513026848],                #Eco Commons\n",
    "    [33.78123012543277, -84.39378517172695]                 #Ken Bayers Tennis Complex\n",
    "\n",
    "]\n",
    "\n",
    "coord_dict = {\n",
    "    (33.7747760996229, -84.397389045613): \"Tech Green\",\n",
    "    (33.772779872748515, -84.39651065684585): \"Transit Hub\",\n",
    "    (33.77357055668125, -84.398009214924): \"Student Center\",\n",
    "    (33.77688902399273, -84.40366325910463): \"Roe Stamps Field\",\n",
    "    (33.77845950552504, -84.40326275302543): \"Burger Bowl Field\",\n",
    "    (33.776877666423005, -84.38880262066144): \"Tech Square\",\n",
    "    (33.769571690695614, -84.39096887259626): \"North Avenue Apartments\",\n",
    "    (33.779599557496205, -84.40469972898788): \"West Village\",\n",
    "    (33.77935960869498, -84.40099513026848): \"Eco Commons\",\n",
    "    (33.78123012543277, -84.39378517172695): \"Ken Bayers Tennis Complex\"\n",
    "}\n",
    "\n",
    "center = [33.77463127745477, -84.39624207884424]\n",
    "\n",
    "for i in range(0,len(coords)):\n",
    "    hotspotList.append(Hotspot(x=coords[i][0], y=coords[i][1]))"
   ]
  },
  {
   "cell_type": "code",
   "execution_count": 23,
   "metadata": {},
   "outputs": [
    {
     "name": "stdout",
     "output_type": "stream",
     "text": [
      "[[0.0, 236.3527792357463, 145.79200631368883, 625.6957870463956, 680.0582469888084, 827.3109186876244, 828.8866798883691, 862.6891212598066, 608.9692773065483, 791.1876918225211], [236.3527792357463, 0.0, 164.05971978308946, 803.6372497979614, 887.8787185332704, 845.6923200657911, 624.2194797963126, 1071.413927986358, 840.8855359207572, 972.8076689873673], [145.79200631368883, 164.05971978308946, 0.0, 639.7359262934497, 728.9093145389646, 927.0067136039697, 788.1607354306288, 912.0448815151028, 700.3799044089903, 936.9226559201464], [625.6957870463956, 803.6372497979614, 639.7359262934497, 0.0, 178.51002737595468, 1373.5149157862018, 1427.8545774884428, 316.255503756428, 369.16365044207055, 1032.7276280163092], [680.0582469888084, 887.8787185332704, 728.9093145389646, 178.51002737595468, 0.0, 1348.0095714913107, 1505.9597312915207, 183.599987624392, 232.25523196585902, 928.5458662442544], [827.3109186876244, 845.6923200657911, 927.0067136039697, 1373.5149157862018, 1348.0095714913107, 0.0, 836.6995458189502, 1500.137138002145, 1160.1948237044421, 668.0537867312473], [828.8866798883691, 624.2194797963126, 788.1607354306288, 1427.8545774884428, 1505.9597312915207, 836.6995458189502, 0.0, 1689.3839147920542, 1429.4575511454561, 1322.2364804134088], [862.6891212598066, 1071.413927986358, 912.0448815151028, 316.255503756428, 183.599987624392, 1500.137138002145, 1689.3839147920542, 0.0, 343.4301003671203, 1024.9156842082457], [608.9692773065483, 840.8855359207572, 700.3799044089903, 369.16365044207055, 232.25523196585902, 1160.1948237044421, 1429.4575511454561, 343.4301003671203, 0.0, 698.0695458234073], [791.1876918225211, 972.8076689873673, 936.9226559201464, 1032.7276280163092, 928.5458662442544, 668.0537867312473, 1322.2364804134088, 1024.9156842082457, 698.0695458234073, 0.0]]\n"
     ]
    }
   ],
   "source": [
    "#Get dist matrix from list of coordinates\n",
    "dist_matrix = [[0 for x in range(len(hotspotList))] for y in range(len(hotspotList))]\n",
    "for i in range(0, len(hotspotList)):\n",
    "    for j in range(0, len(hotspotList)):\n",
    "        dist_matrix[i][j] = hs.haversine(hotspotList[i].get_coords(), hotspotList[j].get_coords(), unit=hs.Unit.METERS)\n",
    "\n",
    "print (dist_matrix)\n",
    "with open(\"matrix.csv\", 'a') as file:\n",
    "        writer_o = writer(file)\n",
    "        for row in dist_matrix:\n",
    "            writer_o.writerow(row)"
   ]
  },
  {
   "cell_type": "markdown",
   "metadata": {},
   "source": [
    "Run the genetic algorithm"
   ]
  },
  {
   "cell_type": "code",
   "execution_count": 24,
   "metadata": {},
   "outputs": [],
   "source": [
    "#geneticAlgorithm(population=hotspotList, popSize=100, eliteSize=2, mutationRate=0.01, generations=100, agents=2)"
   ]
  },
  {
   "cell_type": "markdown",
   "metadata": {},
   "source": [
    "## Plot the progress"
   ]
  },
  {
   "cell_type": "markdown",
   "metadata": {},
   "source": [
    "Note, this will win run a separate GA"
   ]
  },
  {
   "cell_type": "code",
   "execution_count": 25,
   "metadata": {},
   "outputs": [],
   "source": [
    "def geneticAlgorithmPlot(population, popSize, eliteSize, mutationRate, generations, agents):\n",
    "    pop = initialPopulation(popSize, population, agents)\n",
    "    progress = []\n",
    "    # best_dist = float('inf')\n",
    "    # best_route = []\n",
    "    \n",
    "    progress.append(1 / rankRoutes(pop)[0][1])\n",
    "    # val, idx = get_max_agent_dist(pop)\n",
    "    # progress.append(val)\n",
    "    # best_route = pop[idx]\n",
    "    \n",
    "    for i in range(0, generations):\n",
    "        pop = nextGeneration(pop, eliteSize, mutationRate)\n",
    "        progress.append(1 / rankRoutes(pop)[0][1])\n",
    "        # val, idx = get_max_agent_dist(pop)\n",
    "        # progress.append(val)\n",
    "        # if val < best_dist:\n",
    "        #     best_dist = val\n",
    "        #     best_route = pop[idx]\n",
    "    #print(pop[rankRoutes(pop)[0][0]])\n",
    "    #print(1/rankRoutes(pop)[0][1])\n",
    "    plt.plot(progress)\n",
    "    plt.ylabel('Inverse of Fitness')\n",
    "    plt.xlabel('Generation')\n",
    "    plt.show()\n",
    "    return (1/rankRoutes(pop)[0][1]), pop[rankRoutes(pop)[0][0]]"
   ]
  },
  {
   "cell_type": "code",
   "execution_count": 26,
   "metadata": {},
   "outputs": [],
   "source": [
    "def flatten(l):\n",
    "    return [item for sublist in l for item in sublist]"
   ]
  },
  {
   "cell_type": "markdown",
   "metadata": {},
   "source": [
    "Run the function with our assumptions to see how distance has improved in each generation"
   ]
  },
  {
   "cell_type": "code",
   "execution_count": 27,
   "metadata": {},
   "outputs": [
    {
     "data": {
      "image/png": "[encoded data removed]",
      "text/plain": [
       "<Figure size 640x480 with 1 Axes>"
      ]
     },
     "metadata": {},
     "output_type": "display_data"
    },
    {
     "name": "stdout",
     "output_type": "stream",
     "text": [
      "12661.103665563514\n",
      "[[(33.776877666423005,-84.38880262066144), (33.769571690695614,-84.39096887259626)], [(33.77935960869498,-84.40099513026848), (33.78123012543277,-84.39378517172695)], [(33.779599557496205,-84.40469972898788), (33.77688902399273,-84.40366325910463), (33.77845950552504,-84.40326275302543)], [(33.77357055668125,-84.398009214924), (33.772779872748515,-84.39651065684585), (33.7747760996229,-84.397389045613)]]\n"
     ]
    }
   ],
   "source": [
    "final_distance, final_route = geneticAlgorithmPlot(population=hotspotList, popSize=100, eliteSize=20, mutationRate=0.02, generations=100, agents=num_agents)\n",
    "\n",
    "print (final_distance)\n",
    "print (final_route)"
   ]
  },
  {
   "cell_type": "code",
   "execution_count": 28,
   "metadata": {},
   "outputs": [
    {
     "name": "stdout",
     "output_type": "stream",
     "text": [
      "Drone number:  0\n",
      "(33.776877666423005,-84.38880262066144) 5\n",
      "(33.769571690695614,-84.39096887259626) 6\n",
      "Drone number:  1\n",
      "(33.77935960869498,-84.40099513026848) 8\n",
      "(33.78123012543277,-84.39378517172695) 9\n",
      "Drone number:  2\n",
      "(33.779599557496205,-84.40469972898788) 7\n",
      "(33.77688902399273,-84.40366325910463) 3\n",
      "(33.77845950552504,-84.40326275302543) 4\n",
      "Drone number:  3\n",
      "(33.77357055668125,-84.398009214924) 2\n",
      "(33.772779872748515,-84.39651065684585) 1\n",
      "(33.7747760996229,-84.397389045613) 0\n",
      "Drone number:  0 Time Stamp:  0 From:  Tech Square To:  North Avenue Apartments Distance:  836.6995458189502\n",
      "Drone number:  1 Time Stamp:  0 From:  Eco Commons To:  Ken Bayers Tennis Complex Distance:  698.0695458234073\n",
      "Drone number:  2 Time Stamp:  0 From:  West Village To:  Roe Stamps Field Distance:  316.255503756428\n",
      "Drone number:  2 Time Stamp:  1 From:  Roe Stamps Field To:  Burger Bowl Field Distance:  494.7655311323827\n",
      "Drone number:  3 Time Stamp:  0 From:  Student Center To:  Transit Hub Distance:  164.05971978308946\n",
      "Drone number:  3 Time Stamp:  1 From:  Transit Hub To:  Tech Green Distance:  400.4124990188358\n",
      "[836.6995458189502, 698.0695458234073, 494.7655311323827, 400.4124990188358]\n"
     ]
    }
   ],
   "source": [
    "# print (final_distance)\n",
    "# print (final_route)\n",
    "# print (len(final_route))\n",
    "\n",
    "# final_route = flatten(final_route)\n",
    "\n",
    "# print (final_route)\n",
    "# print (len(final_route))\n",
    "\n",
    "if num_agents > 1:\n",
    "    filename = f\"multi_agent_{num_agents}.csv\"\n",
    "else:\n",
    "    filename = \"single_agent.csv\"\n",
    "\n",
    "for i, drone in enumerate(final_route):\n",
    "    print(\"Drone number: \", i)\n",
    "    for route in drone:\n",
    "        print (str(route) + \" \" + str(coords.index([route.x, route.y])))\n",
    "    \n",
    "\n",
    "for num, routes in enumerate(final_route):\n",
    "    #convert list routes to a tuple\n",
    "    cum_dist = 0  \n",
    "    for i in range(0, len(routes)-1):\n",
    "        cum_dist += hs.haversine((routes[i].x, routes[i].y), (routes[i+1].x, routes[i+1].y), unit=hs.Unit.METERS)\n",
    "        save_data(routes[i], routes[i+1], num, i, filename, cum_dist)\n",
    "        print(\"Drone number: \", num, \"Time Stamp: \", i, \"From: \", coord_dict[(routes[i].x, routes[i].y)], \"To: \", coord_dict[(routes[i+1].x, routes[i+1].y)], \"Distance: \", cum_dist)\n",
    "\n",
    "drone_dist = []\n",
    "\n",
    "for i, drone in enumerate(final_route):\n",
    "    dist = 0\n",
    "    for j in range(0, len(drone)-1):\n",
    "        dist += hs.haversine((drone[j].x, drone[j].y), (drone[j+1].x, drone[j+1].y), unit=hs.Unit.METERS)\n",
    "    drone_dist.append(dist)\n",
    "\n",
    "print(drone_dist)\n",
    "        \n",
    "        "
   ]
  },
  {
   "cell_type": "code",
   "execution_count": 29,
   "metadata": {},
   "outputs": [],
   "source": [
    "def validate_drones(drones, dist):\n",
    "    output = []\n",
    "    for drone in drones:\n",
    "        if drone.validate(dist):\n",
    "            output.append(drone)\n",
    "    return output"
   ]
  },
  {
   "cell_type": "code",
   "execution_count": 30,
   "metadata": {},
   "outputs": [
    {
     "name": "stdout",
     "output_type": "stream",
     "text": [
      "DJI Matrice 30 has a range of 24150.0 meters\n",
      "DJI Matrice 600 has a range of 7559.999999999999 meters\n",
      "DJI Phantom 4 has a range of 2940.0 meters\n",
      "AltaX has a range of 22092.0 meters\n",
      "Remaining Flight Time for DJI Matrice 30 :  17.209846015203745\n",
      "Remaining Flight Time for DJI Matrice 600 :  6.629247686093669\n",
      "Remaining Flight Time for DJI Phantom 4 :  3.023318453549005\n",
      "Remaining Flight Time for AltaX :  13.746253169189583\n",
      "Final distance: 400.4124990188358\n",
      "Valid drones: \n",
      "DJI Matrice 30\n",
      "DJI Matrice 600\n",
      "DJI Phantom 4\n",
      "AltaX\n",
      "Remaining Flight Time for DJI Matrice 30 :  17.209846015203745\n",
      "Remaining Flight Time for DJI Matrice 600 :  6.629247686093669\n",
      "Remaining Flight Time for DJI Phantom 4 :  3.023318453549005\n",
      "Remaining Flight Time for AltaX :  13.746253169189583\n",
      "Final distance: 400.4124990188358\n",
      "Valid drones: \n",
      "DJI Matrice 30\n",
      "DJI Matrice 600\n",
      "DJI Phantom 4\n",
      "AltaX\n",
      "Remaining Flight Time for DJI Matrice 30 :  17.209846015203745\n",
      "Remaining Flight Time for DJI Matrice 600 :  6.629247686093669\n",
      "Remaining Flight Time for DJI Phantom 4 :  3.023318453549005\n",
      "Remaining Flight Time for AltaX :  13.746253169189583\n",
      "Final distance: 400.4124990188358\n",
      "Valid drones: \n",
      "DJI Matrice 30\n",
      "DJI Matrice 600\n",
      "DJI Phantom 4\n",
      "AltaX\n",
      "Remaining Flight Time for DJI Matrice 30 :  17.209846015203745\n",
      "Remaining Flight Time for DJI Matrice 600 :  6.629247686093669\n",
      "Remaining Flight Time for DJI Phantom 4 :  3.023318453549005\n",
      "Remaining Flight Time for AltaX :  13.746253169189583\n",
      "Final distance: 400.4124990188358\n",
      "Valid drones: \n",
      "DJI Matrice 30\n",
      "DJI Matrice 600\n",
      "DJI Phantom 4\n",
      "AltaX\n"
     ]
    }
   ],
   "source": [
    "altaX = Drone(\"AltaX\", 35, 2, 18200, 26.3, 8000)\n",
    "dji_M_30 = Drone(\"DJI Matrice 30\", 40, 0.7, 14700, 23, 7000)\n",
    "dji_M_600 = Drone(\"DJI Matrice 600\", 25, 1.2, 11000, 18, 4500)\n",
    "dji_P_4 = Drone(\"DJI Phantom 4\", 20, 0.8, 1599, 14, 6000)\n",
    "\n",
    "drone_list = [dji_M_30, dji_M_600, dji_P_4, altaX]\n",
    "\n",
    "sensing_time = 1 #minute\n",
    "sensing_time = sensing_time* 10\n",
    "Takeoff_Landing_time = 5 #minute\n",
    "\n",
    "vel_percent = 0.7\n",
    "\n",
    "for drone in drone_list:\n",
    "    range = (drone.flight_time - (sensing_time+Takeoff_Landing_time))*drone.velocity*vel_percent*60\n",
    "    drone.set_range(range)\n",
    "    print(drone.name + \" has a range of \" + str(range) + \" meters\")\n",
    "\n",
    "for dists in drone_dist:\n",
    "    valid_drones = validate_drones(drone_list, dist)\n",
    "    print(\"Final distance: \" + str(dist))\n",
    "    print(\"Valid drones: \")\n",
    "    for drone in valid_drones:\n",
    "        print(drone.name)\n"
   ]
  }
 ],
 "metadata": {
  "kernelspec": {
   "display_name": "Python 3 (ipykernel)",
   "language": "python",
   "name": "python3"
  },
  "language_info": {
   "codemirror_mode": {
    "name": "ipython",
    "version": 3
   },
   "file_extension": ".py",
   "mimetype": "text/x-python",
   "name": "python",
   "nbconvert_exporter": "python",
   "pygments_lexer": "ipython3",
   "version": "3.10.9"
  }
 },
 "nbformat": 4,
 "nbformat_minor": 4
}
